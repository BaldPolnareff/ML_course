{
 "cells": [
  {
   "attachments": {},
   "cell_type": "markdown",
   "metadata": {},
   "source": [
    "# Neural Networks Concepts \n",
    "\n",
    "A neural network is a mathematical model that is inspired by the way the human brain works. It is a system of interconnected \"neurons\" that can learn from data. \n",
    "\n",
    "Neural networks are used to solve a wide variety of problems, including: \n",
    "\n",
    "* Image classification \n",
    "* Speech recognition \n",
    "* Anomaly detection \n",
    "* Keyword spotting \n",
    "\n",
    "Despite their name, neural networks only borrow some terminology from neuroscience of the past century, and are not actually modeled on the human brain."
   ]
  },
  {
   "attachments": {},
   "cell_type": "markdown",
   "metadata": {},
   "source": [
    "A neural network is modeled as a set of layers. Each layer is a set of nodes. Each node is a mathematical function that takes the output of the previous layer as input and produces an output. The output of the last layer is the output of the neural network. \n",
    "\n",
    "The very first layer is the input layer. The last layer is the output layer. The layers in between are called hidden layers. "
   ]
  },
  {
   "attachments": {},
   "cell_type": "markdown",
   "metadata": {},
   "source": [
    "$$ \\displaystyle \\textcolor{yellow}{ \\text{INPUT} \\ \\ \\vec{x} \\Rightarrow} \\boxed{\\boxed{\\begin{bmatrix} \n",
    "\n",
    "\\circ \\\\ \n",
    "\\circ \\\\ \n",
    "\\circ \\\\ \n",
    "\\circ \\\\ \n",
    "\\circ \n",
    "\\end{bmatrix} \\textcolor{grey}{\\vec{a}^{[1]} \\rightarrow} \\begin{bmatrix} \n",
    "\\circ \\\\ \n",
    "\\circ \\\\ \n",
    "\\circ \\\\\n",
    "\\circ\n",
    "\\end{bmatrix} \\textcolor{grey}{\\vec{a}^{[2]} \\rightarrow} \\begin{bmatrix} \n",
    "\\circ \\\\ \n",
    "\\circ \\\\ \n",
    "\\circ \n",
    "\\end{bmatrix} \\textcolor{grey}{\\vec{a}^{[3]} \\rightarrow}} \\textcolor{magenta}{\\begin{bmatrix} \n",
    "\\circ \n",
    "\\end{bmatrix} \\vec{a}^{[4]}}} \\textcolor{magenta}{\\ \\ f(x) \\Rightarrow \\ \\ \\text{OUTPUT}}$$"
   ]
  }
 ],
 "metadata": {
  "kernelspec": {
   "display_name": "base",
   "language": "python",
   "name": "python3"
  },
  "language_info": {
   "name": "python",
   "version": "3.9.13"
  },
  "orig_nbformat": 4
 },
 "nbformat": 4,
 "nbformat_minor": 2
}
